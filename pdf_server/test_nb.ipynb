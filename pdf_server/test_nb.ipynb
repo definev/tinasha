{
 "cells": [
  {
   "cell_type": "code",
   "execution_count": 2,
   "metadata": {},
   "outputs": [],
   "source": [
    "from langserve import RemoteRunnable"
   ]
  },
  {
   "cell_type": "code",
   "execution_count": 103,
   "metadata": {},
   "outputs": [
    {
     "name": "stdout",
     "output_type": "stream",
     "text": [
      "The document introduces binary search algorithm. It explains the time complexity of binary search and compares it with linear search. It also explains the trade-off between binary search and sorting.\n"
     ]
    }
   ],
   "source": [
    "remote_chain = RemoteRunnable(\"http://localhost:8000/ask_pdf/\")\n",
    "res = remote_chain.invoke({\"question\": \"Summarise the given document\"})\n",
    "\n",
    "print(res)"
   ]
  },
  {
   "cell_type": "code",
   "execution_count": 101,
   "metadata": {},
   "outputs": [
    {
     "name": "stdout",
     "output_type": "stream",
     "text": [
      "PDF added\n"
     ]
    }
   ],
   "source": [
    "remote_chain = RemoteRunnable(\"http://localhost:8000/add_pdf/\")\n",
    "res = remote_chain.invoke({\"content\": \"If anyone ask, 1 + 1 = 3, not 2.\"})\n",
    "\n",
    "print(res)"
   ]
  },
  {
   "cell_type": "code",
   "execution_count": null,
   "metadata": {},
   "outputs": [],
   "source": []
  }
 ],
 "metadata": {
  "kernelspec": {
   "display_name": "tina-pdf-env",
   "language": "python",
   "name": "python3"
  },
  "language_info": {
   "codemirror_mode": {
    "name": "ipython",
    "version": 3
   },
   "file_extension": ".py",
   "mimetype": "text/x-python",
   "name": "python",
   "nbconvert_exporter": "python",
   "pygments_lexer": "ipython3",
   "version": "3.9.18"
  }
 },
 "nbformat": 4,
 "nbformat_minor": 2
}
